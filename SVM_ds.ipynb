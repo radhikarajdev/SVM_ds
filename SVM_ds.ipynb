{
  "nbformat": 4,
  "nbformat_minor": 0,
  "metadata": {
    "colab": {
      "provenance": []
    },
    "kernelspec": {
      "name": "python3",
      "display_name": "Python 3"
    },
    "language_info": {
      "name": "python"
    }
  },
  "cells": [
    {
      "cell_type": "code",
      "execution_count": null,
      "metadata": {
        "colab": {
          "base_uri": "https://localhost:8080/"
        },
        "id": "B20AnQ1yNx3Y",
        "outputId": "3f7d6d58-ea45-46d7-e571-5c0008a992e1"
      },
      "outputs": [
        {
          "output_type": "stream",
          "name": "stdout",
          "text": [
            "Requirement already satisfied: scikit-learn in /usr/local/lib/python3.11/dist-packages (1.6.1)\n",
            "Requirement already satisfied: pandas in /usr/local/lib/python3.11/dist-packages (2.2.2)\n",
            "Requirement already satisfied: matplotlib in /usr/local/lib/python3.11/dist-packages (3.10.0)\n",
            "Requirement already satisfied: numpy>=1.19.5 in /usr/local/lib/python3.11/dist-packages (from scikit-learn) (2.0.2)\n",
            "Requirement already satisfied: scipy>=1.6.0 in /usr/local/lib/python3.11/dist-packages (from scikit-learn) (1.14.1)\n",
            "Requirement already satisfied: joblib>=1.2.0 in /usr/local/lib/python3.11/dist-packages (from scikit-learn) (1.4.2)\n",
            "Requirement already satisfied: threadpoolctl>=3.1.0 in /usr/local/lib/python3.11/dist-packages (from scikit-learn) (3.6.0)\n",
            "Requirement already satisfied: python-dateutil>=2.8.2 in /usr/local/lib/python3.11/dist-packages (from pandas) (2.8.2)\n",
            "Requirement already satisfied: pytz>=2020.1 in /usr/local/lib/python3.11/dist-packages (from pandas) (2025.2)\n",
            "Requirement already satisfied: tzdata>=2022.7 in /usr/local/lib/python3.11/dist-packages (from pandas) (2025.2)\n",
            "Requirement already satisfied: contourpy>=1.0.1 in /usr/local/lib/python3.11/dist-packages (from matplotlib) (1.3.2)\n",
            "Requirement already satisfied: cycler>=0.10 in /usr/local/lib/python3.11/dist-packages (from matplotlib) (0.12.1)\n",
            "Requirement already satisfied: fonttools>=4.22.0 in /usr/local/lib/python3.11/dist-packages (from matplotlib) (4.57.0)\n",
            "Requirement already satisfied: kiwisolver>=1.3.1 in /usr/local/lib/python3.11/dist-packages (from matplotlib) (1.4.8)\n",
            "Requirement already satisfied: packaging>=20.0 in /usr/local/lib/python3.11/dist-packages (from matplotlib) (24.2)\n",
            "Requirement already satisfied: pillow>=8 in /usr/local/lib/python3.11/dist-packages (from matplotlib) (11.1.0)\n",
            "Requirement already satisfied: pyparsing>=2.3.1 in /usr/local/lib/python3.11/dist-packages (from matplotlib) (3.2.3)\n",
            "Requirement already satisfied: six>=1.5 in /usr/local/lib/python3.11/dist-packages (from python-dateutil>=2.8.2->pandas) (1.17.0)\n"
          ]
        }
      ],
      "source": [
        "# ✅ Install necessary libraries (run in Colab if needed)\n",
        "!pip install scikit-learn pandas matplotlib"
      ]
    },
    {
      "cell_type": "code",
      "source": [
        "!pip install scikit-optimize"
      ],
      "metadata": {
        "colab": {
          "base_uri": "https://localhost:8080/"
        },
        "id": "d-UgbPnqSqkT",
        "outputId": "040e9ba9-7f2d-4b8d-b76b-fcc822cec201"
      },
      "execution_count": null,
      "outputs": [
        {
          "output_type": "stream",
          "name": "stdout",
          "text": [
            "Collecting scikit-optimize\n",
            "  Downloading scikit_optimize-0.10.2-py2.py3-none-any.whl.metadata (9.7 kB)\n",
            "Requirement already satisfied: joblib>=0.11 in /usr/local/lib/python3.11/dist-packages (from scikit-optimize) (1.4.2)\n",
            "Collecting pyaml>=16.9 (from scikit-optimize)\n",
            "  Downloading pyaml-25.1.0-py3-none-any.whl.metadata (12 kB)\n",
            "Requirement already satisfied: numpy>=1.20.3 in /usr/local/lib/python3.11/dist-packages (from scikit-optimize) (2.0.2)\n",
            "Requirement already satisfied: scipy>=1.1.0 in /usr/local/lib/python3.11/dist-packages (from scikit-optimize) (1.14.1)\n",
            "Requirement already satisfied: scikit-learn>=1.0.0 in /usr/local/lib/python3.11/dist-packages (from scikit-optimize) (1.6.1)\n",
            "Requirement already satisfied: packaging>=21.3 in /usr/local/lib/python3.11/dist-packages (from scikit-optimize) (24.2)\n",
            "Requirement already satisfied: PyYAML in /usr/local/lib/python3.11/dist-packages (from pyaml>=16.9->scikit-optimize) (6.0.2)\n",
            "Requirement already satisfied: threadpoolctl>=3.1.0 in /usr/local/lib/python3.11/dist-packages (from scikit-learn>=1.0.0->scikit-optimize) (3.6.0)\n",
            "Downloading scikit_optimize-0.10.2-py2.py3-none-any.whl (107 kB)\n",
            "\u001b[2K   \u001b[90m━━━━━━━━━━━━━━━━━━━━━━━━━━━━━━━━━━━━━━━━\u001b[0m \u001b[32m107.8/107.8 kB\u001b[0m \u001b[31m3.4 MB/s\u001b[0m eta \u001b[36m0:00:00\u001b[0m\n",
            "\u001b[?25hDownloading pyaml-25.1.0-py3-none-any.whl (26 kB)\n",
            "Installing collected packages: pyaml, scikit-optimize\n",
            "Successfully installed pyaml-25.1.0 scikit-optimize-0.10.2\n"
          ]
        }
      ]
    },
    {
      "cell_type": "code",
      "source": [
        "from skopt.callbacks import DeadlineStopper, DeltaYStopper\n",
        "import numpy as np\n",
        "import pandas as pd\n",
        "from sklearn.model_selection import train_test_split\n",
        "from sklearn.svm import NuSVC  # Changed to ν-SVM\n",
        "from sklearn.preprocessing import StandardScaler, LabelEncoder\n",
        "from sklearn.metrics import accuracy_score\n",
        "from skopt import gp_minimize\n",
        "from skopt.plots import plot_convergence\n",
        "from datetime import datetime\n",
        "import matplotlib.pyplot as plt\n",
        "from sklearn.exceptions import ConvergenceWarning\n",
        "import warnings\n",
        "\n",
        "# Custom callback to print progress\n",
        "def print_progress(res):\n",
        "    print(f\"\\rIteration {len(res.x_iters)}/{100}\", end='', flush=True)\n",
        "\n",
        "# Load and preprocess data\n",
        "df = pd.read_csv(\"/content/AirQualityUCI.csv\", delimiter=';', decimal=',', na_values=['-200'])\n",
        "\n",
        "# 1. Drop the last empty column and clean data\n",
        "df = df.drop(df.columns[-1], axis=1)\n",
        "df['Time'] = df['Time'].str.replace('.', ':')\n",
        "df['DateTime'] = pd.to_datetime(df['Date'] + ' ' + df['Time'], dayfirst=True)\n",
        "df = df.drop(['Date', 'Time'], axis=1)\n",
        "df = df.dropna(thresh=len(df)*0.7, axis=1).fillna(method='ffill').dropna()\n",
        "\n",
        "# 2. Create target classes with proper class distribution\n",
        "bins = [0, 1, 2, 3, float('inf')]\n",
        "labels = ['Good', 'Moderate', 'Poor', 'Very Poor']\n",
        "df['AirQuality'] = pd.cut(df['CO(GT)'], bins=bins, labels=labels)\n",
        "\n",
        "# 3. Prepare features and target\n",
        "X = df.drop(['DateTime', 'CO(GT)', 'AirQuality'], axis=1)\n",
        "for col in X.columns:\n",
        "    if X[col].dtype == object:\n",
        "        X[col] = X[col].str.replace(',', '.').astype(float)\n",
        "y = df['AirQuality']\n",
        "\n",
        "# 4. Standardize and encode\n",
        "scaler = StandardScaler()\n",
        "X_scaled = scaler.fit_transform(X)\n",
        "le = LabelEncoder()\n",
        "y_encoded = le.fit_transform(y)\n",
        "\n",
        "# Verify data integrity\n",
        "assert not np.isnan(X_scaled).any(), \"Data contains NaN values!\"\n",
        "assert len(np.unique(y_encoded)) > 2, \"Not a multi-class problem!\"\n",
        "\n",
        "# Prepare results table\n",
        "results = []\n",
        "best_res = None\n",
        "best_accuracy = 0\n",
        "\n",
        "for sample in range(1, 11):\n",
        "    print(f\"\\nStarting sample {sample} at {datetime.now().strftime('%H:%M:%S')}\")\n",
        "    X_train, X_test, y_train, y_test = train_test_split(\n",
        "        X_scaled, y_encoded, test_size=0.3, random_state=sample\n",
        "    )\n",
        "\n",
        "    def optimize_svm(params):\n",
        "        kernel, nu, gamma = params  # Changed to nu parameter\n",
        "\n",
        "        model = NuSVC(\n",
        "            kernel=kernel,\n",
        "            nu=nu,  # ν parameter (0 < nu <= 1)\n",
        "            gamma=gamma,\n",
        "            max_iter=1000,\n",
        "            cache_size=1000,\n",
        "            tol=1e-3,\n",
        "            random_state=42\n",
        "        )\n",
        "\n",
        "        with warnings.catch_warnings():\n",
        "            warnings.simplefilter(\"ignore\", ConvergenceWarning)\n",
        "            try:\n",
        "                model.fit(X_train, y_train)\n",
        "                return -accuracy_score(y_test, model.predict(X_test))\n",
        "            except:\n",
        "                return 1000\n",
        "\n",
        "    # Updated parameter space for ν-SVM\n",
        "    space = [\n",
        "        ['linear', 'rbf', 'poly'],  # Kernel types\n",
        "        (0.01, 0.99),  # ν range (0 < nu <= 1)\n",
        "        ['scale', 'auto']  # Gamma options\n",
        "    ]\n",
        "\n",
        "    res = gp_minimize(\n",
        "        optimize_svm,\n",
        "        space,\n",
        "        n_calls=100,\n",
        "        random_state=sample,\n",
        "        callback=[print_progress, DeadlineStopper(60*15)],  # 15 min timeout\n",
        "        n_initial_points=20\n",
        "    )\n",
        "\n",
        "    # Final evaluation\n",
        "    final_model = NuSVC(\n",
        "        kernel=res.x[0],\n",
        "        nu=res.x[1],\n",
        "        gamma=res.x[2],\n",
        "        random_state=42\n",
        "    )\n",
        "    final_model.fit(X_train, y_train)\n",
        "    final_accuracy = accuracy_score(y_test, final_model.predict(X_test))\n",
        "\n",
        "    # Store results\n",
        "    results.append({\n",
        "        'Sample': f'S{sample}',\n",
        "        'Best Accuracy': round(final_accuracy, 4),\n",
        "        'Parameters': {\n",
        "            'Kernel': res.x[0],\n",
        "            'Nu': round(res.x[1], 4),\n",
        "            'Gamma': res.x[2]\n",
        "        }\n",
        "    })\n",
        "\n",
        "    # Track best sample for convergence plot\n",
        "    if final_accuracy > best_accuracy:\n",
        "        best_accuracy = final_accuracy\n",
        "        best_res = res\n",
        "        best_sample_num = sample\n",
        "\n",
        "    print(f\"Completed sample {sample} with accuracy: {final_accuracy:.4f}\")\n",
        "\n",
        "# Generate formatted results table\n",
        "print(\"\\n\" + \"=\"*80)\n",
        "print(\"Table 1: Comparative performance of Optimized-SVM with different samples\")\n",
        "print(\"=\"*80)\n",
        "print(f\"{'Sample #':<10}{'Best Accuracy':<15}{'Best SVM Parameters (Kernel, Nu, Gamma)':<50}\")\n",
        "print(\"-\"*80)\n",
        "for res in results:\n",
        "    params = res['Parameters']\n",
        "    print(f\"{res['Sample']:<10}{res['Best Accuracy']:<15.4f}{params['Kernel']}, {params['Nu']}, {params['Gamma']}\")\n",
        "\n",
        "# Plot convergence for best sample\n",
        "plt.figure(figsize=(12, 6))\n",
        "plot_convergence(best_res)\n",
        "plt.title(f'Figure 1: Convergence graph of best SVM (Sample S{best_sample_num})', pad=20)\n",
        "plt.xlabel('Iteration', labelpad=10)\n",
        "plt.ylabel('Accuracy', labelpad=10)\n",
        "plt.grid(True, alpha=0.3)\n",
        "plt.xticks(np.arange(0, 101, 10))\n",
        "plt.tight_layout()\n",
        "plt.savefig('convergence_graph.png', dpi=300)\n",
        "plt.show()"
      ],
      "metadata": {
        "colab": {
          "base_uri": "https://localhost:8080/",
          "height": 1000
        },
        "id": "x3Bfwkugih8s",
        "outputId": "6d10df9b-9fb3-47ad-a49e-7e4b4abfd722"
      },
      "execution_count": 7,
      "outputs": [
        {
          "output_type": "stream",
          "name": "stdout",
          "text": [
            "\n",
            "Starting sample 1 at 19:35:49\n",
            "\rIteration 1/100"
          ]
        },
        {
          "output_type": "stream",
          "name": "stderr",
          "text": [
            "<ipython-input-7-d7cba6f2e7c6>:27: FutureWarning: DataFrame.fillna with 'method' is deprecated and will raise in a future version. Use obj.ffill() or obj.bfill() instead.\n",
            "  df = df.dropna(thresh=len(df)*0.7, axis=1).fillna(method='ffill').dropna()\n"
          ]
        },
        {
          "output_type": "stream",
          "name": "stdout",
          "text": [
            "Iteration 100/100Completed sample 1 with accuracy: 0.8015\n",
            "\n",
            "Starting sample 2 at 19:41:21\n",
            "Iteration 100/100Completed sample 2 with accuracy: 0.7836\n",
            "\n",
            "Starting sample 3 at 19:46:48\n",
            "Iteration 100/100Completed sample 3 with accuracy: 0.7903\n",
            "\n",
            "Starting sample 4 at 19:52:45\n",
            "Iteration 100/100Completed sample 4 with accuracy: 0.7861\n",
            "\n",
            "Starting sample 5 at 19:58:01\n",
            "Iteration 100/100Completed sample 5 with accuracy: 0.7938\n",
            "\n",
            "Starting sample 6 at 20:03:59\n",
            "Iteration 100/100Completed sample 6 with accuracy: 0.8019\n",
            "\n",
            "Starting sample 7 at 20:09:20\n",
            "Iteration 100/100Completed sample 7 with accuracy: 0.7928\n",
            "\n",
            "Starting sample 8 at 20:15:05\n",
            "Iteration 100/100Completed sample 8 with accuracy: 0.7959\n",
            "\n",
            "Starting sample 9 at 20:20:57\n",
            "Iteration 100/100Completed sample 9 with accuracy: 0.7618\n",
            "\n",
            "Starting sample 10 at 20:26:26\n",
            "Iteration 100/100Completed sample 10 with accuracy: 0.8005\n",
            "\n",
            "================================================================================\n",
            "Table 1: Comparative performance of Optimized-SVM with different samples\n",
            "================================================================================\n",
            "Sample #  Best Accuracy  Best SVM Parameters (Kernel, Nu, Gamma)           \n",
            "--------------------------------------------------------------------------------\n",
            "S1        0.8015         rbf, 0.2942, auto\n",
            "S2        0.7836         rbf, 0.3382, scale\n",
            "S3        0.7903         rbf, 0.3709, scale\n",
            "S4        0.7861         rbf, 0.348, auto\n",
            "S5        0.7938         rbf, 0.335, auto\n",
            "S6        0.8019         rbf, 0.3345, scale\n",
            "S7        0.7928         rbf, 0.3432, scale\n",
            "S8        0.7959         rbf, 0.3135, scale\n",
            "S9        0.7618         rbf, 0.4, scale\n",
            "S10       0.8005         rbf, 0.2695, auto\n"
          ]
        },
        {
          "output_type": "display_data",
          "data": {
            "text/plain": [
              "<Figure size 1200x600 with 1 Axes>"
            ],
            "image/png": "[encoded data removed]"
          },
          "metadata": {}
        }
      ]
    }
  ]
}